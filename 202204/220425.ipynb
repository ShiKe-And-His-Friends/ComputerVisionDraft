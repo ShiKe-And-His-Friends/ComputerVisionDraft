{
 "cells": [
  {
   "cell_type": "code",
   "execution_count": 2,
   "id": "8d328ca7",
   "metadata": {},
   "outputs": [
    {
     "name": "stdout",
     "output_type": "stream",
     "text": [
      " 驱动器 C 中的卷没有标签。\n",
      " 卷的序列号是 E8B6-3276\n",
      "\n",
      " C:\\Users\\Administrator 的目录\n",
      "\n",
      "2022/04/25  16:33    <DIR>          .\n",
      "2022/04/08  15:54    <DIR>          ..\n",
      "2021/11/04  11:04    <DIR>          .android\n",
      "2022/04/25  16:23    <DIR>          .conda\n",
      "2022/04/16  08:31               108 .gitconfig\n",
      "2022/04/25  16:29    <DIR>          .ipynb_checkpoints\n",
      "2022/04/25  16:27    <DIR>          .ipython\n",
      "2021/06/26  11:05    <DIR>          .keras\n",
      "2021/06/26  11:00    <DIR>          .matplotlib\n",
      "2021/06/12  12:49    <DIR>          .vscode\n",
      "2022/04/25  16:33             2,679 220425.ipynb\n",
      "2021/05/09  22:37    <DIR>          3D Objects\n",
      "2022/04/08  16:27    <DIR>          Contacts\n",
      "2022/04/25  15:53    <DIR>          Desktop\n",
      "2022/04/25  00:00    <DIR>          Documents\n",
      "2022/04/25  16:01    <DIR>          Downloads\n",
      "2022/04/25  00:00    <DIR>          Favorites\n",
      "2022/04/25  00:00    <DIR>          Links\n",
      "2022/04/25  00:00    <DIR>          Music\n",
      "2022/04/25  08:55    <DIR>          OneDrive\n",
      "2022/04/25  00:00    <DIR>          Pictures\n",
      "2022/04/25  00:00    <DIR>          Saved Games\n",
      "2022/04/08  16:27    <DIR>          Searches\n",
      "2021/05/16  22:23    <DIR>          source\n",
      "2021/05/15  08:25    <DIR>          UIDowner\n",
      "2022/04/25  00:00    <DIR>          Videos\n",
      "2021/06/26  10:31    <DIR>          vimfiles\n",
      "2021/07/11  19:36            26,010 _viminfo\n",
      "               3 个文件         28,797 字节\n",
      "              25 个目录 157,071,667,200 可用字节\n"
     ]
    }
   ],
   "source": [
    "!dir"
   ]
  },
  {
   "cell_type": "code",
   "execution_count": 3,
   "id": "fa907831",
   "metadata": {},
   "outputs": [
    {
     "name": "stdout",
     "output_type": "stream",
     "text": [
      "Hello Jupyter Again\n"
     ]
    }
   ],
   "source": [
    "print(\"Hello Jupyter Again\")"
   ]
  },
  {
   "cell_type": "code",
   "execution_count": 6,
   "id": "110dd105",
   "metadata": {
    "scrolled": true
   },
   "outputs": [
    {
     "data": {
      "text/plain": [
       "'C:\\\\Users\\\\Administrator'"
      ]
     },
     "execution_count": 6,
     "metadata": {},
     "output_type": "execute_result"
    }
   ],
   "source": [
    "%pwd"
   ]
  },
  {
   "cell_type": "code",
   "execution_count": null,
   "id": "d011c00b",
   "metadata": {},
   "outputs": [],
   "source": []
  }
 ],
 "metadata": {
  "kernelspec": {
   "display_name": "Python 3 (ipykernel)",
   "language": "python",
   "name": "python3"
  },
  "language_info": {
   "codemirror_mode": {
    "name": "ipython",
    "version": 3
   },
   "file_extension": ".py",
   "mimetype": "text/x-python",
   "name": "python",
   "nbconvert_exporter": "python",
   "pygments_lexer": "ipython3",
   "version": "3.9.7"
  }
 },
 "nbformat": 4,
 "nbformat_minor": 5
}
